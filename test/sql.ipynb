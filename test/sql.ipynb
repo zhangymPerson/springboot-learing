{
 "cells": [
  {
   "cell_type": "markdown",
   "metadata": {},
   "source": [
    "sql 测试相关"
   ]
  },
  {
   "cell_type": "code",
   "execution_count": null,
   "metadata": {},
   "outputs": [],
   "source": [
    "%run database.py\n",
    "\n",
    "db_name = \"mysql\"\n",
    "with DB(host='127.0.0.1', user='root', passwd='12345678', db_name=db_name) as db:\n",
    "    # 查询 select * from user 并打印结果\n",
    "    db.execute(\"select * from user\")\n",
    "    print(db.fetchall())"
   ]
  }
 ],
 "metadata": {
  "kernelspec": {
   "display_name": "base",
   "language": "python",
   "name": "python3"
  },
  "language_info": {
   "codemirror_mode": {
    "name": "ipython",
    "version": 3
   },
   "file_extension": ".py",
   "mimetype": "text/x-python",
   "name": "python",
   "nbconvert_exporter": "python",
   "pygments_lexer": "ipython3",
   "version": "3.11.7"
  }
 },
 "nbformat": 4,
 "nbformat_minor": 2
}
